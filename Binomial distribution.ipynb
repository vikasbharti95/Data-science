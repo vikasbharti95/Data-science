{
 "cells": [
  {
   "cell_type": "markdown",
   "metadata": {},
   "source": [
    "# Actuarial Practice\n",
    "## Probability Distribution"
   ]
  },
  {
   "cell_type": "markdown",
   "metadata": {},
   "source": [
    "## Discerete distribution\n",
    "- Discretre uniform distribution\n",
    "- Discrete Bernauli distribution\n",
    "- Binomial distribution\n",
    "- Geometric distribution\n",
    "- negetive Binomial distribution\n",
    "- hyper geometric distribution\n",
    "- poission distribution"
   ]
  },
  {
   "cell_type": "markdown",
   "metadata": {},
   "source": [
    "## Binomial distribution"
   ]
  },
  {
   "cell_type": "code",
   "execution_count": 3,
   "metadata": {},
   "outputs": [],
   "source": [
    "# Prequisit\n",
    "import numpy as np\n",
    "import pandas as pd\n",
    "import scipy as sc"
   ]
  },
  {
   "cell_type": "code",
   "execution_count": 4,
   "metadata": {},
   "outputs": [],
   "source": [
    "import matplotlib as graph"
   ]
  },
  {
   "cell_type": "code",
   "execution_count": 7,
   "metadata": {},
   "outputs": [],
   "source": [
    "from scipy.stats import binom"
   ]
  },
  {
   "cell_type": "code",
   "execution_count": 9,
   "metadata": {},
   "outputs": [],
   "source": [
    "n=10 # stting up parameter values\n",
    "p=0.6\n",
    "x_values=list(range(n+1)) # random variable X posible values\n",
    "mean , var=binom.stats(n,p) # obtaining mean and variance\n",
    "dist=[binom.pmf(x,n,p) for x in x_values] # list of PMF or PDF values"
   ]
  },
  {
   "cell_type": "code",
   "execution_count": 10,
   "metadata": {},
   "outputs": [
    {
     "name": "stdout",
     "output_type": "stream",
     "text": [
      "x\tp(x)\n",
      "0\t0.00010485760000000014\n",
      "1\t0.0015728640000000028\n",
      "2\t0.010616832\n",
      "3\t0.04246732800000004\n",
      "4\t0.11147673600000013\n",
      "5\t0.20065812480000034\n",
      "6\t0.2508226560000002\n",
      "7\t0.21499084800000012\n",
      "8\t0.12093235199999994\n",
      "9\t0.04031078400000004\n",
      "10\t0.0060466176\n"
     ]
    }
   ],
   "source": [
    "print(\"x\\tp(x)\")\n",
    "for i in range(n+1):\n",
    "    print(str(x_values[i])+\"\\t\"+str(dist[i])) # printing the table"
   ]
  },
  {
   "cell_type": "code",
   "execution_count": 11,
   "metadata": {},
   "outputs": [
    {
     "name": "stdout",
     "output_type": "stream",
     "text": [
      "Mean=6.0\n",
      "Variance=2.4000000000000004\n"
     ]
    }
   ],
   "source": [
    "print(\"Mean=\"+str(mean))\n",
    "print(\"Variance=\"+str(var))"
   ]
  },
  {
   "cell_type": "code",
   "execution_count": 12,
   "metadata": {},
   "outputs": [],
   "source": [
    "import matplotlib.pyplot as plt # ploting the graph"
   ]
  },
  {
   "cell_type": "code",
   "execution_count": 14,
   "metadata": {},
   "outputs": [
    {
     "data": {
      "image/png": "[encoded data removed]",
      "text/plain": [
       "<Figure size 432x288 with 1 Axes>"
      ]
     },
     "metadata": {
      "needs_background": "light"
     },
     "output_type": "display_data"
    }
   ],
   "source": [
    "plt.bar(x_values,dist)\n",
    "plt.show()"
   ]
  },
  {
   "cell_type": "code",
   "execution_count": 15,
   "metadata": {},
   "outputs": [],
   "source": [
    "# if changes done in parameter then affect on binomial distribution\n",
    "## if p=0.5 then binomial distribution will be Normal Distribution. let's check"
   ]
  },
  {
   "cell_type": "code",
   "execution_count": 16,
   "metadata": {},
   "outputs": [],
   "source": [
    "n=10 # stting up parameter values\n",
    "p=0.5\n",
    "x_values=list(range(n+1)) # random variable X posible values\n",
    "mean , var=binom.stats(n,p) # obtaining mean and variance\n",
    "dist=[binom.pmf(x,n,p) for x in x_values] # list of PMF or PDF values"
   ]
  },
  {
   "cell_type": "code",
   "execution_count": 18,
   "metadata": {},
   "outputs": [
    {
     "name": "stdout",
     "output_type": "stream",
     "text": [
      "x\tp(x)\n",
      "0\t0.0009765625\n",
      "1\t0.00976562500000001\n",
      "2\t0.04394531249999999\n",
      "3\t0.11718750000000014\n",
      "4\t0.20507812500000022\n",
      "5\t0.24609375000000025\n",
      "6\t0.20507812500000022\n",
      "7\t0.11718750000000014\n",
      "8\t0.04394531249999999\n",
      "9\t0.00976562500000001\n",
      "10\t0.0009765625\n",
      "Mean=5.0\n",
      "Variance=2.5\n"
     ]
    }
   ],
   "source": [
    "print(\"x\\tp(x)\")\n",
    "for i in range(n+1):\n",
    "    print(str(x_values[i])+\"\\t\"+str(dist[i])) # printing the table\n",
    "print(\"Mean=\"+str(mean))\n",
    "print(\"Variance=\"+str(var))"
   ]
  },
  {
   "cell_type": "code",
   "execution_count": 19,
   "metadata": {},
   "outputs": [
    {
     "data": {
      "image/png": "[encoded data removed]",
      "text/plain": [
       "<Figure size 432x288 with 1 Axes>"
      ]
     },
     "metadata": {
      "needs_background": "light"
     },
     "output_type": "display_data"
    }
   ],
   "source": [
    "plt.bar(x_values,dist)\n",
    "plt.show()"
   ]
  },
  {
   "cell_type": "code",
   "execution_count": 20,
   "metadata": {},
   "outputs": [
    {
     "name": "stdout",
     "output_type": "stream",
     "text": [
      "x\tp(x)\n",
      "0\t2.0479999999999952e-08\n",
      "1\t9.011199999999997e-07\n",
      "2\t1.8022400000000016e-05\n",
      "3\t0.00021626880000000012\n",
      "4\t0.0017301503999999984\n",
      "5\t0.009688842239999993\n",
      "6\t0.038755368960000015\n",
      "7\t0.11072962560000005\n",
      "8\t0.22145925120000012\n",
      "9\t0.29527900160000037\n",
      "10\t0.2362232012800001\n",
      "11\t0.08589934592000005\n",
      "Mean=8.8\n",
      "Variance=1.7599999999999998\n"
     ]
    },
    {
     "data": {
      "image/png": "[encoded data removed]",
      "text/plain": [
       "<Figure size 432x288 with 1 Axes>"
      ]
     },
     "metadata": {
      "needs_background": "light"
     },
     "output_type": "display_data"
    }
   ],
   "source": [
    "# another parameter changing\n",
    "n=11 # stting up parameter values\n",
    "p=0.8\n",
    "x_values=list(range(n+1)) # random variable X posible values\n",
    "mean , var=binom.stats(n,p) # obtaining mean and variance\n",
    "dist=[binom.pmf(x,n,p) for x in x_values] # list of PMF or PDF values\n",
    "\n",
    "print(\"x\\tp(x)\")\n",
    "for i in range(n+1):\n",
    "    print(str(x_values[i])+\"\\t\"+str(dist[i])) # printing the table\n",
    "    \n",
    "print(\"Mean=\"+str(mean))\n",
    "print(\"Variance=\"+str(var))\n",
    "\n",
    "plt.bar(x_values,dist)\n",
    "plt.show()"
   ]
  },
  {
   "cell_type": "code",
   "execution_count": 21,
   "metadata": {},
   "outputs": [
    {
     "name": "stdout",
     "output_type": "stream",
     "text": [
      "x\tp(x)\n",
      "0\t0.028247524900000005\n",
      "1\t0.12106082100000018\n",
      "2\t0.2334744405\n",
      "3\t0.26682793200000016\n",
      "4\t0.20012094900000013\n",
      "5\t0.10291934520000007\n",
      "6\t0.03675690899999999\n",
      "7\t0.009001692000000002\n",
      "8\t0.0014467004999999982\n",
      "9\t0.00013778100000000015\n",
      "10\t5.904899999999995e-06\n",
      "Mean=3.0\n",
      "Variance=2.0999999999999996\n"
     ]
    },
    {
     "data": {
      "image/png": "[encoded data removed]",
      "text/plain": [
       "<Figure size 432x288 with 1 Axes>"
      ]
     },
     "metadata": {
      "needs_background": "light"
     },
     "output_type": "display_data"
    }
   ],
   "source": [
    "n=10 # stting up parameter values\n",
    "p=0.3\n",
    "x_values=list(range(n+1)) # random variable X posible values\n",
    "mean , var=binom.stats(n,p) # obtaining mean and variance\n",
    "dist=[binom.pmf(x,n,p) for x in x_values] # list of PMF or PDF values\n",
    "\n",
    "print(\"x\\tp(x)\")\n",
    "for i in range(n+1):\n",
    "    print(str(x_values[i])+\"\\t\"+str(dist[i])) # printing the table\n",
    "    \n",
    "print(\"Mean=\"+str(mean))\n",
    "print(\"Variance=\"+str(var))\n",
    "\n",
    "plt.bar(x_values,dist)\n",
    "plt.show()"
   ]
  },
  {
   "cell_type": "code",
   "execution_count": 29,
   "metadata": {},
   "outputs": [
    {
     "name": "stdout",
     "output_type": "stream",
     "text": [
      "x\tp(x)\n",
      "0\t0.028247524900000005\n",
      "1\t0.12106082100000018\n",
      "2\t0.2334744405\n",
      "3\t0.26682793200000016\n",
      "4\t0.20012094900000013\n",
      "5\t0.10291934520000007\n",
      "6\t0.03675690899999999\n",
      "7\t0.009001692000000002\n",
      "8\t0.0014467004999999982\n",
      "9\t0.00013778100000000015\n",
      "10\t5.904899999999995e-06\n",
      "Mean=3.0\n",
      "Variance=2.0999999999999996\n"
     ]
    },
    {
     "data": {
      "image/png": "[encoded data removed]",
      "text/plain": [
       "<Figure size 432x288 with 1 Axes>"
      ]
     },
     "metadata": {
      "needs_background": "light"
     },
     "output_type": "display_data"
    }
   ],
   "source": [
    "n=10 # stting up parameter values\n",
    "p=0.3\n",
    "x_values=list(range(n+1)) # random variable X posible values\n",
    "mean , var=binom.stats(n,p) # obtaining mean and variance\n",
    "dist=[binom.pmf(x,n,p) for x in x_values] # list of PMF or PDF values\n",
    "\n",
    "print(\"x\\tp(x)\")\n",
    "for i in range(n+1):\n",
    "    print(str(x_values[i])+\"\\t\"+str(dist[i])) # printing the table\n",
    "    \n",
    "print(\"Mean=\"+str(mean))\n",
    "print(\"Variance=\"+str(var))\n",
    "\n",
    "plt.bar(x_values,dist)\n",
    "plt.show()"
   ]
  },
  {
   "cell_type": "markdown",
   "metadata": {},
   "source": [
    "## we can clearly see that if parameter p=0.5 then binomial distribution will be normal distribution\n",
    "## If P>0.5 and N doesn't change shape will be negetevly skewd but P<0.5 and N doesn't change then shape will be +vly skewd"
   ]
  },
  {
   "cell_type": "code",
   "execution_count": null,
   "metadata": {},
   "outputs": [],
   "source": []
  }
 ],
 "metadata": {
  "kernelspec": {
   "display_name": "Python 3",
   "language": "python",
   "name": "python3"
  },
  "language_info": {
   "codemirror_mode": {
    "name": "ipython",
    "version": 3
   },
   "file_extension": ".py",
   "mimetype": "text/x-python",
   "name": "python",
   "nbconvert_exporter": "python",
   "pygments_lexer": "ipython3",
   "version": "3.8.5"
  }
 },
 "nbformat": 4,
 "nbformat_minor": 4
}
